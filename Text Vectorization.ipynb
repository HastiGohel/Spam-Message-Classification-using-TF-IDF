{
 "cells": [
  {
   "cell_type": "markdown",
   "id": "b5f0916e-8490-44e5-bd24-8ec0122ca40d",
   "metadata": {},
   "source": [
    "# Section A: Theory-Based Questions\n",
    "#### Q1. Why do we need to convert text data into numerical format before using it in a machine learning model?\n",
    "We need to convert text data into numerical format before using it in a machine learning model because:\n",
    "\n",
    "**1. ML models work with numbers, not raw text**: Machine learning algorithms use mathematical operations like distance calculation, matrix multiplication, and gradient descent — which require numeric input.\n",
    "\n",
    "**2. Text is unstructured, while ML needs structured input** : Raw text (like \"I love this movie\") has no inherent numeric meaning. We need to convert it into structured numerical representations (like vectors or embeddings) that the model can learn from.\n",
    "\n",
    "**3. Numeric format captures meaning or frequency** \n",
    "- Common methods:\n",
    "    - Bag of Words (BoW) – counts word occurrences.\n",
    "    - TF-IDF – weighs important words.\n",
    "    - Word Embeddings (Word2Vec, GloVe) – capture context and meaning.\n",
    "\n",
    "**4. Models learn patterns from numbers**: Once the text is transformed into vectors (e.g., [0.1, 0.3, -0.2, ...]), models can identify patterns, similarities, or sentiment.\n",
    "\n",
    "**Example:**\n",
    "\n",
    "Original: \"I hate this product\"\n",
    "- Tokenize → ['I', 'hate', 'this', 'product']\n",
    "- Vectorize → [0.2, -0.8, 0.5, 0.1] (using embedding)\n",
    "- Model learns this vector indicates negative sentiment.\n",
    "\n",
    "#### Q2. What is the Bag of Words model? How does it represent text?\n",
    "BoW represents a piece of text as a \"bag\" (collection) of its words, ignoring grammar and word order, but keeping track of word frequency.\n",
    "\n",
    "**How does BoW work?**\n",
    "- Build a vocabulary of all unique words from the entire text corpus.\n",
    "- For each document/sentence, count how many times each word appears.\n",
    "- Represent each document as a vector of word counts.\n",
    "\n",
    "**Key Points:**\n",
    "- Order doesn’t matter (it’s a \"bag\", not a sequence).\n",
    "- Simple and fast, but doesn't capture meaning or context.\n",
    "- Works well for basic models like Naive Bayes or Logistic Regression.\n",
    "\n",
    "**Limitations:**\n",
    "- Can create very large and sparse vectors.\n",
    "- Cannot understand synonyms, negations, or word context.\n",
    "    - E.g., “I like this” vs. “I don’t like this” may look too similar.\n",
    "\n",
    "#### Q3. What is TF-IDF, and how does it differ from the Bag of Words model?\n",
    "TF-IDF stands for:\n",
    "- TF – Term Frequency\n",
    "- IDF – Inverse Document Frequency\n",
    "  \n",
    "It is a numerical statistic that reflects how important a word is in a document relative to a collection of documents (corpus).\n",
    "\n",
    "TF-IDF Formula: TF-IDF(t,d)=TF(t,d)×IDF(t)\n",
    "\n",
    "Where:\n",
    "- TF(t, d) = frequency of term t in document d\n",
    "- IDF(t) = log(N / df(t)), where\n",
    "- N = total number of documents\n",
    "- df(t) = number of documents containing the term t\n",
    "\n",
    "**How is TF-IDF different from Bag of Words?**\n",
    "| Feature             | Bag of Words         | TF-IDF                         |\n",
    "| ------------------- | -------------------- | ------------------------------ |\n",
    "| Representation      | Raw word counts      | Weighted importance (TF × IDF) |\n",
    "| Common words        | Treated equally      | Downweighted                   |\n",
    "| Rare words          | No special treatment | Upweighted (more important)    |\n",
    "| Captures importance | No                 | Yes                          |\n",
    "| Output              | Sparse vectors       | Sparse, weighted vectors       |\n",
    "\n",
    "#### Q4. Explain one real-world limitation of Bag of Words and one strength of TF-IDF in handling large text corpora.\n",
    "\n",
    "**Limitation of Bag of Words (BoW):**\n",
    "- BoW ignores word importance and context, which leads to inefficient or misleading representations in large corpora.\n",
    "- **Real-world example:**\n",
    "    - In a huge collection of product reviews, common words like \"the\", \"product\", or \"good\" appear in almost every review. BoW assigns them high importance just because they appear frequently — even though they don’t carry much unique meaning.\n",
    "- **Result:** BoW fails to distinguish between meaningful and meaningless content, especially in large datasets.\n",
    "\n",
    "**Strength of TF-IDF:**\n",
    "- TF-IDF highlights rare, informative words and downplays common, less meaningful ones.\n",
    "- **Real-world example:**\n",
    "    - In thousands of news articles, the word \"earthquake\" in a few documents is much more meaningful than common words like \"the\" or \"is\".\n",
    "TF-IDF gives higher weight to \"earthquake\" and lower weight to common words — improving search relevance, keyword extraction, and text classification.\n",
    "- **Result:** TF-IDF is more efficient and meaningful for large text corpora."
   ]
  },
  {
   "cell_type": "markdown",
   "id": "aeb6c059-3345-4849-abc7-bad9de0f1a22",
   "metadata": {},
   "source": [
    "# Section B: Practical-Based Questions"
   ]
  },
  {
   "cell_type": "markdown",
   "id": "b941d8f9-af3d-4b4d-8962-d748f57fcc68",
   "metadata": {},
   "source": [
    "#### Q5. Load the dataset into a pandas DataFrame. Check for null values, unique labels, and basic statistics.\n",
    "- import pandas as pd\n",
    "- df = pd.read_csv(\"spam.csv\", encoding='latin-1')[['v1', 'v2']] df.columns = ['label', 'message']"
   ]
  },
  {
   "cell_type": "code",
   "execution_count": 28,
   "id": "41c91db3-496b-4bc7-ba61-9c76c2348ed6",
   "metadata": {},
   "outputs": [],
   "source": [
    "import pandas as pd\n",
    "import string\n",
    "import nltk\n",
    "from nltk.corpus import stopwords\n",
    "from nltk.tokenize import word_tokenize\n",
    "from sklearn.feature_extraction.text import CountVectorizer\n",
    "from sklearn.feature_extraction.text import TfidfVectorizer\n",
    "from sklearn.model_selection import train_test_split\n",
    "from sklearn.feature_extraction.text import TfidfVectorizer\n",
    "from sklearn.naive_bayes import MultinomialNB  \n",
    "from sklearn.metrics import accuracy_score, precision_score, recall_score,confusion_matrix, ConfusionMatrixDisplay\n",
    "import matplotlib.pyplot as plt\n",
    "import numpy as np"
   ]
  },
  {
   "cell_type": "code",
   "execution_count": 10,
   "id": "b3e1cbe1-8510-48cc-892a-f12b818dead4",
   "metadata": {},
   "outputs": [
    {
     "name": "stderr",
     "output_type": "stream",
     "text": [
      "[nltk_data] Downloading package punkt to C:\\Users\\Hasti\n",
      "[nltk_data]     Gohel\\AppData\\Roaming\\nltk_data...\n",
      "[nltk_data]   Package punkt is already up-to-date!\n",
      "[nltk_data] Downloading package stopwords to C:\\Users\\Hasti\n",
      "[nltk_data]     Gohel\\AppData\\Roaming\\nltk_data...\n",
      "[nltk_data]   Package stopwords is already up-to-date!\n"
     ]
    },
    {
     "data": {
      "text/plain": [
       "True"
      ]
     },
     "execution_count": 10,
     "metadata": {},
     "output_type": "execute_result"
    }
   ],
   "source": [
    "nltk.download('punkt')\n",
    "nltk.download('stopwords')"
   ]
  },
  {
   "cell_type": "code",
   "execution_count": 6,
   "id": "d31a9b80-7561-43a2-bc5f-e0852f16f3b6",
   "metadata": {},
   "outputs": [
    {
     "name": "stdout",
     "output_type": "stream",
     "text": [
      "Null values in each column:\n",
      " label      0\n",
      "message    0\n",
      "dtype: int64\n",
      "Unique labels: ['ham' 'spam']\n",
      "Label counts:\n",
      " label\n",
      "ham     4825\n",
      "spam     747\n",
      "Name: count, dtype: int64\n",
      "Dataset shape: (5572, 2)\n",
      "Message length stats:\n",
      "count    5572.000000\n",
      "mean       80.118808\n",
      "std        59.690841\n",
      "min         2.000000\n",
      "25%        36.000000\n",
      "50%        61.000000\n",
      "75%       121.000000\n",
      "max       910.000000\n",
      "Name: message_length, dtype: float64\n"
     ]
    }
   ],
   "source": [
    "df = pd.read_csv(\"spam.csv\", encoding='latin-1')[['v1', 'v2']] \n",
    "df.columns = ['label', 'message']\n",
    "df.head()\n",
    "print(\"Null values in each column:\\n\", df.isnull().sum())\n",
    "print(\"Unique labels:\", df['label'].unique())\n",
    "print(\"Label counts:\\n\", df['label'].value_counts())\n",
    "print(\"Dataset shape:\", df.shape)\n",
    "print(\"Message length stats:\")\n",
    "df['message_length'] = df['message'].apply(len)\n",
    "print(df['message_length'].describe())\n"
   ]
  },
  {
   "cell_type": "markdown",
   "id": "5d125b01-f0ac-4625-be77-82b188635df4",
   "metadata": {},
   "source": [
    "#### Q6. Perform text preprocessing on the message column:\n",
    "- Lowercase the text\n",
    "- Remove punctuation\n",
    "- Remove stopwords\n",
    "- Apply tokenization (you may use NLTK "
   ]
  },
  {
   "cell_type": "code",
   "execution_count": 12,
   "id": "7567bf6f-b83a-443d-854a-bb7f5344c1d4",
   "metadata": {},
   "outputs": [
    {
     "name": "stdout",
     "output_type": "stream",
     "text": [
      "                                             message  \\\n",
      "0  Go until jurong point, crazy.. Available only ...   \n",
      "1                      Ok lar... Joking wif u oni...   \n",
      "2  Free entry in 2 a wkly comp to win FA Cup fina...   \n",
      "3  U dun say so early hor... U c already then say...   \n",
      "4  Nah I don't think he goes to usf, he lives aro...   \n",
      "\n",
      "                                      cleaned_tokens  \n",
      "0  [go, jurong, point, crazy, available, bugis, n...  \n",
      "1                     [ok, lar, joking, wif, u, oni]  \n",
      "2  [free, entry, 2, wkly, comp, win, fa, cup, fin...  \n",
      "3      [u, dun, say, early, hor, u, c, already, say]  \n",
      "4  [nah, dont, think, goes, usf, lives, around, t...  \n"
     ]
    }
   ],
   "source": [
    "def preprocess_text(text):\n",
    "    text = text.lower()\n",
    "    \n",
    "    text = text.translate(str.maketrans('', '', string.punctuation))\n",
    "\n",
    "    tokens = word_tokenize(text)\n",
    "\n",
    "    stop_words = set(stopwords.words('english'))\n",
    "    cleaned_tokens = [word for word in tokens if word not in stop_words]\n",
    "    \n",
    "    return cleaned_tokens\n",
    "    \n",
    "df['cleaned_tokens'] = df['message'].apply(preprocess_text)\n",
    "print(df[['message', 'cleaned_tokens']].head())"
   ]
  },
  {
   "cell_type": "markdown",
   "id": "90d2db26-d950-4117-bfc8-3bf0fbe78cad",
   "metadata": {},
   "source": [
    "#### Q7. Convert the preprocessed messages into a Bag of Words matrix using CountVectorizer.\n",
    "- Print the shape of the resulting matrix\n",
    "- Display the vocabulary"
   ]
  },
  {
   "cell_type": "code",
   "execution_count": 17,
   "id": "453e64d5-0a83-4903-966a-a8ad7a716bb2",
   "metadata": {},
   "outputs": [
    {
     "name": "stdout",
     "output_type": "stream",
     "text": [
      "Shape of BoW matrix: (5572, 9372)\n",
      "First 20 vocabulary items:\n",
      " [('go', 3763), ('jurong', 4649), ('point', 6378), ('crazy', 2481), ('available', 1401), ('bugis', 1864), ('great', 3858), ('world', 9103), ('la', 4806), ('buffet', 1862), ('cine', 2197), ('got', 3819), ('amore', 1168), ('wat', 8867), ('ok', 5943), ('lar', 4845), ('joking', 4617), ('wif', 8999), ('oni', 5975), ('free', 3555)]\n"
     ]
    }
   ],
   "source": [
    "df['cleaned_text'] = df['cleaned_tokens'].apply(lambda tokens: ' '.join(tokens))\n",
    "vectorizer = CountVectorizer()\n",
    "X_bow = vectorizer.fit_transform(df['cleaned_text'])\n",
    "print(\"Shape of BoW matrix:\", X_bow.shape)\n",
    "\n",
    "#print(\"Vocabulary:\\n\", vectorizer.vocabulary_)\n",
    "print(\"First 20 vocabulary items:\\n\", list(vectorizer.vocabulary_.items())[:20])\n"
   ]
  },
  {
   "cell_type": "markdown",
   "id": "b1bda052-ef72-408e-ba53-e4f521f862ec",
   "metadata": {},
   "source": [
    "#### Q8. Convert the messages into a TF-IDF matrix using TfidfVectorizer.\n",
    "- Display the first 5 rows of the matrix as a pandas DataFrame"
   ]
  },
  {
   "cell_type": "code",
   "execution_count": 19,
   "id": "f36a2ca5-2985-4a8a-b928-4d74efe15b27",
   "metadata": {},
   "outputs": [
    {
     "name": "stdout",
     "output_type": "stream",
     "text": [
      "   008704050406  0089my  0121  01223585236  01223585334  0125698789   02  \\\n",
      "0           0.0     0.0   0.0          0.0          0.0         0.0  0.0   \n",
      "1           0.0     0.0   0.0          0.0          0.0         0.0  0.0   \n",
      "2           0.0     0.0   0.0          0.0          0.0         0.0  0.0   \n",
      "3           0.0     0.0   0.0          0.0          0.0         0.0  0.0   \n",
      "4           0.0     0.0   0.0          0.0          0.0         0.0  0.0   \n",
      "\n",
      "   020603  0207  02070836089  ...   ìï  ìïll  ûthanks  ûªm  ûªt  ûªve   ûï  \\\n",
      "0     0.0   0.0          0.0  ...  0.0   0.0      0.0  0.0  0.0   0.0  0.0   \n",
      "1     0.0   0.0          0.0  ...  0.0   0.0      0.0  0.0  0.0   0.0  0.0   \n",
      "2     0.0   0.0          0.0  ...  0.0   0.0      0.0  0.0  0.0   0.0  0.0   \n",
      "3     0.0   0.0          0.0  ...  0.0   0.0      0.0  0.0  0.0   0.0  0.0   \n",
      "4     0.0   0.0          0.0  ...  0.0   0.0      0.0  0.0  0.0   0.0  0.0   \n",
      "\n",
      "   ûïharry   ûò  ûówell  \n",
      "0      0.0  0.0     0.0  \n",
      "1      0.0  0.0     0.0  \n",
      "2      0.0  0.0     0.0  \n",
      "3      0.0  0.0     0.0  \n",
      "4      0.0  0.0     0.0  \n",
      "\n",
      "[5 rows x 9372 columns]\n"
     ]
    }
   ],
   "source": [
    "tfidf_vectorizer = TfidfVectorizer()\n",
    "X_tfidf = tfidf_vectorizer.fit_transform(df['cleaned_text'])\n",
    "\n",
    "feature_names = tfidf_vectorizer.get_feature_names_out()\n",
    "\n",
    "tfidf_df = pd.DataFrame(X_tfidf.toarray(), columns=feature_names)\n",
    "print(tfidf_df.head())"
   ]
  },
  {
   "cell_type": "markdown",
   "id": "b483a72f-5854-46fe-8cf6-aa5b4b140a7c",
   "metadata": {},
   "source": [
    "#### Q9. Compare the frequency and TF-IDF score of three common words (e.g., “free”, “win”, “call”).\n",
    "- Which model gives more importance to rare but meaningful words?\n",
    "\n",
    "**Interpretation:**\n",
    "- BoW counts raw frequency: \"call\" may appear most, but could be common across many messages (not necessarily spam).\n",
    "- TF-IDF gives more importance to rarer but more spammy words like \"free\" and \"win\"."
   ]
  },
  {
   "cell_type": "code",
   "execution_count": 20,
   "id": "ac488c05-e2f5-4338-a199-dd0344997ea2",
   "metadata": {},
   "outputs": [
    {
     "name": "stdout",
     "output_type": "stream",
     "text": [
      "BoW Frequency:\n",
      "free: 275\n",
      "win : 71\n",
      "call: 576\n",
      "\n",
      "TF-IDF Total Scores:\n",
      "free: 47.133596364683605\n",
      "win : 14.067937226258003\n",
      "call: 105.03648293992977\n"
     ]
    }
   ],
   "source": [
    "bow_df = pd.DataFrame(X_bow.toarray(), columns=vectorizer.get_feature_names_out())\n",
    "\n",
    "print(\"BoW Frequency:\")\n",
    "print(\"free:\", bow_df['free'].sum())\n",
    "print(\"win :\", bow_df['win'].sum())\n",
    "print(\"call:\", bow_df['call'].sum())\n",
    "\n",
    "tfidf_df = pd.DataFrame(X_tfidf.toarray(), columns=tfidf_vectorizer.get_feature_names_out())\n",
    "\n",
    "print(\"\\nTF-IDF Total Scores:\")\n",
    "print(\"free:\", tfidf_df['free'].sum())\n",
    "print(\"win :\", tfidf_df['win'].sum())\n",
    "print(\"call:\", tfidf_df['call'].sum())\n"
   ]
  },
  {
   "cell_type": "markdown",
   "id": "793437f2-2a06-4eef-aed5-48de7123b0e1",
   "metadata": {},
   "source": [
    "#### Q10. Build a simple spam classification model using TF-IDF vectors and Logistic Regression or Naive Bayes.\n",
    "- Split the data into train/test sets\n",
    "- Train the model and report the accuracy, precision, and recall"
   ]
  },
  {
   "cell_type": "code",
   "execution_count": 25,
   "id": "e6002bf3-0534-467a-b3ce-79c002f4f72c",
   "metadata": {},
   "outputs": [
    {
     "name": "stdout",
     "output_type": "stream",
     "text": [
      "Accuracy : 0.9686\n",
      "Precision: 1.0000\n",
      "Recall   : 0.7667\n"
     ]
    }
   ],
   "source": [
    "df = pd.read_csv(\"spam.csv\", encoding='latin-1')[['v1', 'v2']]\n",
    "df.columns = ['label', 'message']\n",
    "\n",
    "df['label'] = df['label'].map({'ham': 0, 'spam': 1})\n",
    "\n",
    "tfidf = TfidfVectorizer(stop_words='english')\n",
    "X = tfidf.fit_transform(df['message'])  # No need to tokenize manually\n",
    "y = df['label']\n",
    "X_train, X_test, y_train, y_test = train_test_split(X, y, test_size=0.2, random_state=42)\n",
    "model = MultinomialNB()\n",
    "model.fit(X_train, y_train)\n",
    "y_pred = model.predict(X_test)\n",
    "\n",
    "# Metrics\n",
    "acc = accuracy_score(y_test, y_pred)\n",
    "prec = precision_score(y_test, y_pred)\n",
    "rec = recall_score(y_test, y_pred)\n",
    "\n",
    "print(f\"Accuracy : {acc:.4f}\")\n",
    "print(f\"Precision: {prec:.4f}\")\n",
    "print(f\"Recall   : {rec:.4f}\")"
   ]
  },
  {
   "cell_type": "markdown",
   "id": "9f149700-8c20-4238-ae12-13cd424993a9",
   "metadata": {},
   "source": [
    "#### Q11. Create a confusion matrix to visualize true positives, true negatives, false positives, and false negatives. Comment on model performance."
   ]
  },
  {
   "cell_type": "code",
   "execution_count": 27,
   "id": "7e8c1818-a585-4de3-92c6-837091b9e3cf",
   "metadata": {},
   "outputs": [
    {
     "data": {
      "image/png": "[encoded data removed]",
      "text/plain": [
       "<Figure size 640x480 with 2 Axes>"
      ]
     },
     "metadata": {},
     "output_type": "display_data"
    }
   ],
   "source": [
    "cm = confusion_matrix(y_test, y_pred, labels=[0, 1])  # 0 = ham, 1 = spam\n",
    "disp = ConfusionMatrixDisplay(confusion_matrix=cm, display_labels=['Ham', 'Spam'])\n",
    "disp.plot(cmap='Blues')\n",
    "plt.title(\"Confusion Matrix\")\n",
    "plt.show()"
   ]
  },
  {
   "cell_type": "markdown",
   "id": "782097cb-8f83-435a-9326-72f5495e420b",
   "metadata": {},
   "source": [
    "#### Q12. Plot the top 10 TF-IDF features that are most indicative of a spam message (i.e., highest average TF-IDF score in spam class)."
   ]
  },
  {
   "cell_type": "code",
   "execution_count": 29,
   "id": "f4d7e791-d866-4987-b5b7-9fc7198fdbbd",
   "metadata": {},
   "outputs": [
    {
     "data": {
      "image/png": "[encoded data removed]",
      "text/plain": [
       "<Figure size 1000x600 with 1 Axes>"
      ]
     },
     "metadata": {},
     "output_type": "display_data"
    }
   ],
   "source": [
    "feature_names = tfidf.get_feature_names_out()\n",
    "\n",
    "X_tfidf_array = X.toarray()\n",
    "\n",
    "spam_indices = df[df['label'] == 1].index\n",
    "spam_tfidf = X_tfidf_array[spam_indices]\n",
    "\n",
    "spam_avg_tfidf = np.mean(spam_tfidf, axis=0)\n",
    "\n",
    "top_n = 10\n",
    "top_indices = np.argsort(spam_avg_tfidf)[-top_n:][::-1]\n",
    "\n",
    "top_features = [feature_names[i] for i in top_indices]\n",
    "top_scores = [spam_avg_tfidf[i] for i in top_indices]\n",
    "\n",
    "plt.figure(figsize=(10, 6))\n",
    "plt.barh(top_features[::-1], top_scores[::-1], color='crimson')\n",
    "plt.xlabel(\"Average TF-IDF Score (Spam Messages)\")\n",
    "plt.title(\"Top 10 TF-IDF Features Indicative of Spam\")\n",
    "plt.tight_layout()\n",
    "plt.show()\n"
   ]
  },
  {
   "cell_type": "code",
   "execution_count": null,
   "id": "fcbe4cd0-61ce-434c-88cb-c730ab6c6907",
   "metadata": {},
   "outputs": [],
   "source": []
  }
 ],
 "metadata": {
  "kernelspec": {
   "display_name": "Python 3 (ipykernel)",
   "language": "python",
   "name": "python3"
  },
  "language_info": {
   "codemirror_mode": {
    "name": "ipython",
    "version": 3
   },
   "file_extension": ".py",
   "mimetype": "text/x-python",
   "name": "python",
   "nbconvert_exporter": "python",
   "pygments_lexer": "ipython3",
   "version": "3.12.7"
  }
 },
 "nbformat": 4,
 "nbformat_minor": 5
}
